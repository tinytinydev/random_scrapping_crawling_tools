{
 "cells": [
  {
   "cell_type": "code",
   "execution_count": 2,
   "metadata": {},
   "outputs": [],
   "source": [
    "##Written by Eugene Choy, eugene.choy.wj@hotmail.com 8 Feb 2020\n",
    "from googlesearch import search\n",
    "import time"
   ]
  },
  {
   "cell_type": "code",
   "execution_count": 3,
   "metadata": {},
   "outputs": [
    {
     "name": "stdout",
     "output_type": "stream",
     "text": [
      "https://www.who.int/health-topics/coronavirus\n",
      "https://www.who.int/emergencies/diseases/novel-coronavirus-2019\n",
      "https://www.nytimes.com/2020/02/09/world/asia/coronavirus-china.html\n",
      "https://www.straitstimes.com/singapore/health/novel-coronavirus-cases-in-singapore\n",
      "https://www.moh.gov.sg/2019-ncov-wuhan\n",
      "https://www.channelnewsasia.com/news/singapore/wuhan-virus-coronavirus-lee-hsien-loong-singapore-courage-12411082\n",
      "https://www.worldometers.info/coronavirus/\n",
      "https://www.cdc.gov/coronavirus/2019-ncov/summary.html\n",
      "https://www.cdc.gov/coronavirus/2019-ncov/faq.html\n",
      "https://www.thelancet.com/coronavirus\n",
      "https://www.livescience.com/new-china-coronavirus-faq.html\n",
      "https://www.nature.com/articles/d41586-020-00154-w\n",
      "https://www.bbc.com/news/world-51235105\n",
      "https://www.aljazeera.com/news/2020/01/coronavirus-symptoms-vaccines-risks-200122194509687.html\n",
      "https://www.aljazeera.com/news/2020/01/coronavirus-spread-protect-200130115539072.html\n",
      "https://www.vox.com/2020/1/31/21113178/what-is-coronavirus-symptoms-travel-china-map\n",
      "https://www.cnet.com/how-to/coronavirus-death-toll-rises-to-56-five-us-cases-confirmed-everything-we-know/\n",
      "https://www.nhs.uk/conditions/wuhan-novel-coronavirus/\n",
      "https://en.wikipedia.org/wiki/2019_novel_coronavirus\n",
      "https://medlineplus.gov/coronavirusinfections.html\n"
     ]
    }
   ],
   "source": [
    "query = \"corona virus\"\n",
    "my_results_list = []\n",
    "for i in search(query,        # The query you want to run\n",
    "                tld = 'com',  # The top level domain\n",
    "                lang = 'en',  # The language\n",
    "                num = 10,     # Number of results per page\n",
    "                start = 0,    # First result to retrieve\n",
    "                stop = 20,  # Last result to retrieve\n",
    "                pause = 2.0,  # Lapse between HTTP requests\n",
    "               ):\n",
    "    my_results_list.append(i)\n",
    "    print(i)"
   ]
  },
  {
   "cell_type": "code",
   "execution_count": 4,
   "metadata": {},
   "outputs": [
    {
     "name": "stdout",
     "output_type": "stream",
     "text": [
      "corona_virus1581258504.txt written to out folder\n"
     ]
    }
   ],
   "source": [
    "#output the URLS into a text file\n",
    "\n",
    "import os \n",
    "\n",
    "\n",
    "#if directory don't exist\n",
    "path = \"./out/\"\n",
    "if not os.path.exists(path):\n",
    "    os.makedirs(path)\n",
    "\n",
    "#Write into txt file for record\n",
    "time_string = str(int(time.time()))\n",
    "f = open(path + query.replace(\" \", \"_\") + time_string + \".txt\",\"w\")\n",
    "\n",
    "for result in my_results_list:\n",
    "    f.write(result +\"\\n\")\n",
    "    \n",
    "f.close()\n",
    "print(query.replace(\" \", \"_\") + time_string + \".txt\" + \" written to out folder\")"
   ]
  },
  {
   "cell_type": "code",
   "execution_count": 5,
   "metadata": {},
   "outputs": [],
   "source": [
    "import os\n",
    "import requests\n",
    "import time\n",
    "from bs4 import BeautifulSoup\n",
    "import textract\n",
    "\n",
    "#Methods to extract content from webpage\n",
    "def get_urls_from_path(path,url_list):\n",
    "    for filename in os.listdir(path):\n",
    "        f = open(path + '/' + filename,'r')\n",
    "        for url in f:\n",
    "            url_list.append(url.replace(\"\\n\",\"\"))\n",
    "    return url_list\n",
    "\n",
    "\n",
    "def content_from_result(results_list):\n",
    "    content = \"\"\n",
    "    for result in results_list:\n",
    "        text = result.get_text()\n",
    "        text = text.replace(\"\\n\",\"\")\n",
    "        text = text.replace(\",\",\";\")\n",
    "        text = text.replace(\"  \",\"\")\n",
    "        text = text.replace(\"\\r\",\" \")\n",
    "        text = text.replace(\"\\xa0\",\" \")\n",
    "        text = text.replace(\"©\",\"copyrighted \")\n",
    "        content += text\n",
    "    return content\n",
    "\n",
    "def get_pdf_content_from_url(url):\n",
    "    myfile = requests.get(url)\n",
    "    \n",
    "    path = \"./temp/\"\n",
    "    if not os.path.exists(path):\n",
    "        os.makedirs(path)\n",
    "    \n",
    "    open(path + 'temp.pdf', 'wb').write(myfile.content)\n",
    "    text = textract.process(path + \"temp.pdf\")\n",
    "    \n",
    "    text = text.decode()\n",
    "    text = text.replace(\"\\n\",\"\")\n",
    "    text = text.replace(\"\\x0c\",\"\")\n",
    "    text = text.replace(\",\",\";\")\n",
    "    text = text.replace(\"  \",\"\")\n",
    "    text = text.replace(\"©\",\"copyrighted \")\n",
    "    \n",
    "    os.remove(path + \"temp.pdf\")\n",
    "    return text\n",
    "\n",
    "def get_content_from_url(url):\n",
    "\n",
    "    content = \"\"\n",
    "    if \".pdf\" not in url:\n",
    "        page = requests.get(url)\n",
    "        page_content = page.content\n",
    "\n",
    "        soup = BeautifulSoup(page_content, 'html.parser')\n",
    "\n",
    "        results_list = soup.find_all('h2')\n",
    "        content += content_from_result(results_list)\n",
    "\n",
    "        results_list = soup.find_all('p')\n",
    "        content += \" \" + content_from_result(results_list)\n",
    "        return content\n",
    "    else:\n",
    "        return get_pdf_content_from_url(url)"
   ]
  },
  {
   "cell_type": "code",
   "execution_count": 6,
   "metadata": {},
   "outputs": [
    {
     "data": {
      "text/plain": [
       "['https://www.who.int/health-topics/coronavirus',\n",
       " 'https://www.who.int/emergencies/diseases/novel-coronavirus-2019',\n",
       " 'https://www.nytimes.com/2020/02/09/world/asia/coronavirus-china.html',\n",
       " 'https://www.straitstimes.com/singapore/health/novel-coronavirus-cases-in-singapore',\n",
       " 'https://www.moh.gov.sg/2019-ncov-wuhan',\n",
       " 'https://www.channelnewsasia.com/news/singapore/wuhan-virus-coronavirus-lee-hsien-loong-singapore-courage-12411082',\n",
       " 'https://www.worldometers.info/coronavirus/',\n",
       " 'https://www.cdc.gov/coronavirus/2019-ncov/summary.html',\n",
       " 'https://www.cdc.gov/coronavirus/2019-ncov/faq.html',\n",
       " 'https://www.thelancet.com/coronavirus',\n",
       " 'https://www.livescience.com/new-china-coronavirus-faq.html',\n",
       " 'https://www.nature.com/articles/d41586-020-00154-w',\n",
       " 'https://www.bbc.com/news/world-51235105',\n",
       " 'https://www.aljazeera.com/news/2020/01/coronavirus-symptoms-vaccines-risks-200122194509687.html',\n",
       " 'https://www.aljazeera.com/news/2020/01/coronavirus-spread-protect-200130115539072.html',\n",
       " 'https://www.vox.com/2020/1/31/21113178/what-is-coronavirus-symptoms-travel-china-map',\n",
       " 'https://www.cnet.com/how-to/coronavirus-death-toll-rises-to-56-five-us-cases-confirmed-everything-we-know/',\n",
       " 'https://www.nhs.uk/conditions/wuhan-novel-coronavirus/',\n",
       " 'https://en.wikipedia.org/wiki/2019_novel_coronavirus',\n",
       " 'https://medlineplus.gov/coronavirusinfections.html']"
      ]
     },
     "execution_count": 6,
     "metadata": {},
     "output_type": "execute_result"
    }
   ],
   "source": [
    "url_list = []\n",
    "url_list = get_urls_from_path(\"./out\",url_list)\n",
    "url_list"
   ]
  },
  {
   "cell_type": "code",
   "execution_count": 7,
   "metadata": {},
   "outputs": [
    {
     "name": "stdout",
     "output_type": "stream",
     "text": [
      "https://www.who.int/health-topics/coronavirus converted to text.\n",
      "https://www.who.int/emergencies/diseases/novel-coronavirus-2019 converted to text.\n",
      "https://www.nytimes.com/2020/02/09/world/asia/coronavirus-china.html converted to text.\n",
      "https://www.straitstimes.com/singapore/health/novel-coronavirus-cases-in-singapore converted to text.\n",
      "https://www.moh.gov.sg/2019-ncov-wuhan converted to text.\n",
      "https://www.channelnewsasia.com/news/singapore/wuhan-virus-coronavirus-lee-hsien-loong-singapore-courage-12411082 converted to text.\n",
      "https://www.worldometers.info/coronavirus/ converted to text.\n",
      "https://www.cdc.gov/coronavirus/2019-ncov/summary.html converted to text.\n",
      "https://www.cdc.gov/coronavirus/2019-ncov/faq.html converted to text.\n",
      "https://www.thelancet.com/coronavirus converted to text.\n",
      "https://www.livescience.com/new-china-coronavirus-faq.html converted to text.\n",
      "https://www.nature.com/articles/d41586-020-00154-w converted to text.\n",
      "https://www.bbc.com/news/world-51235105 converted to text.\n",
      "https://www.aljazeera.com/news/2020/01/coronavirus-symptoms-vaccines-risks-200122194509687.html converted to text.\n",
      "https://www.aljazeera.com/news/2020/01/coronavirus-spread-protect-200130115539072.html converted to text.\n",
      "https://www.vox.com/2020/1/31/21113178/what-is-coronavirus-symptoms-travel-china-map converted to text.\n",
      "https://www.cnet.com/how-to/coronavirus-death-toll-rises-to-56-five-us-cases-confirmed-everything-we-know/ converted to text.\n",
      "https://www.nhs.uk/conditions/wuhan-novel-coronavirus/ converted to text.\n",
      "https://en.wikipedia.org/wiki/2019_novel_coronavirus converted to text.\n",
      "https://medlineplus.gov/coronavirusinfections.html converted to text.\n"
     ]
    }
   ],
   "source": [
    "path = \"./csv/\"\n",
    "if not os.path.exists(path):\n",
    "        os.makedirs(path)\n",
    "\n",
    "csv = open(path + \"out.csv\",\"w\")\n",
    "\n",
    "csv.write(\"url,content\\n\")\n",
    "\n",
    "for url in url_list:\n",
    "    try:\n",
    "        csv.write(url + \",\" + get_content_from_url(url) + \"\\n\")\n",
    "        print(url + \" converted to text.\")\n",
    "        time.sleep(1)\n",
    "    except:\n",
    "        print(url + \" failed to convert to text.\")\n",
    "\n",
    "csv.close()"
   ]
  },
  {
   "cell_type": "code",
   "execution_count": null,
   "metadata": {},
   "outputs": [],
   "source": []
  },
  {
   "cell_type": "code",
   "execution_count": null,
   "metadata": {},
   "outputs": [],
   "source": []
  }
 ],
 "metadata": {
  "kernelspec": {
   "display_name": "Python 3",
   "language": "python",
   "name": "python3"
  },
  "language_info": {
   "codemirror_mode": {
    "name": "ipython",
    "version": 3
   },
   "file_extension": ".py",
   "mimetype": "text/x-python",
   "name": "python",
   "nbconvert_exporter": "python",
   "pygments_lexer": "ipython3",
   "version": "3.7.4"
  }
 },
 "nbformat": 4,
 "nbformat_minor": 2
}
